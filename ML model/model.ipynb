{
 "cells": [
  {
   "cell_type": "code",
   "execution_count": 44,
   "metadata": {},
   "outputs": [],
   "source": [
    "import pandas as pd\n",
    "import numpy as np\n",
    "\n",
    "from sklearn.feature_extraction.text import CountVectorizer\n",
    "from sklearn.metrics.pairwise import cosine_similarity"
   ]
  },
  {
   "cell_type": "code",
   "execution_count": 45,
   "metadata": {},
   "outputs": [],
   "source": [
    "path = \"data/ml_movies_data.csv\"\n",
    "\n",
    "movies = pd.read_csv(path)"
   ]
  },
  {
   "cell_type": "code",
   "execution_count": 10,
   "metadata": {},
   "outputs": [],
   "source": [
    "def get_column_summary(dataset, column_name):\n",
    "    \"\"\"\n",
    "    Generates a summary of data types and their quantities in a column.\n",
    "\n",
    "    Args:\n",
    "        dataset: The DataFrame containing the column.\n",
    "        column_name: The name of the column.\n",
    "\n",
    "    Returns:\n",
    "        A Series containing the data types as the index and their respective counts.\n",
    "    \"\"\"\n",
    "    column_summary = dataset[column_name].apply(type).value_counts()\n",
    "    return column_summary, \"total values:\", dataset.shape[0]"
   ]
  },
  {
   "attachments": {},
   "cell_type": "markdown",
   "metadata": {},
   "source": [
    "## Filter by collection"
   ]
  },
  {
   "cell_type": "code",
   "execution_count": 46,
   "metadata": {},
   "outputs": [],
   "source": [
    "#movies = movies[[\"id\", \"title\", \"collection_name\", \"movie_genres\", \"overview\", \"tagline\"]]\n",
    "movies_by_collection = movies[[\"id\", \"title\", \"collection_name\"]]"
   ]
  },
  {
   "cell_type": "code",
   "execution_count": 47,
   "metadata": {},
   "outputs": [
    {
     "data": {
      "text/plain": [
       "(collection_name\n",
       " <class 'float'>    40861\n",
       " <class 'str'>       4485\n",
       " Name: count, dtype: int64,\n",
       " 'total values:',\n",
       " 45346)"
      ]
     },
     "execution_count": 47,
     "metadata": {},
     "output_type": "execute_result"
    }
   ],
   "source": [
    "# Summary of the data types\n",
    "get_column_summary(movies, \"collection_name\")"
   ]
  },
  {
   "cell_type": "code",
   "execution_count": 49,
   "metadata": {},
   "outputs": [],
   "source": [
    "# Creating a new dataset without the NaN values\n",
    "collections = movies_by_collection.dropna(subset=[\"collection_name\"])"
   ]
  },
  {
   "cell_type": "code",
   "execution_count": 51,
   "metadata": {},
   "outputs": [
    {
     "data": {
      "text/plain": [
       "(collection_name\n",
       " <class 'str'>    4485\n",
       " Name: count, dtype: int64,\n",
       " 'total values:',\n",
       " 4485)"
      ]
     },
     "execution_count": 51,
     "metadata": {},
     "output_type": "execute_result"
    }
   ],
   "source": [
    "# Verifying changes\n",
    "get_column_summary(collections, \"collection_name\")"
   ]
  },
  {
   "attachments": {},
   "cell_type": "markdown",
   "metadata": {},
   "source": [
    "## Genre and rating"
   ]
  },
  {
   "cell_type": "code",
   "execution_count": 84,
   "metadata": {},
   "outputs": [],
   "source": [
    "# Creating a dataset\n",
    "movies_by_gen_rat = movies[[\"id\", \"title\", \"movie_genres\", \"vote_average\", \"vote_count\", \"tagline\"]]"
   ]
  },
  {
   "cell_type": "code",
   "execution_count": 85,
   "metadata": {},
   "outputs": [
    {
     "data": {
      "text/plain": [
       "(vote_average\n",
       " <class 'float'>    45346\n",
       " Name: count, dtype: int64,\n",
       " 'total values:',\n",
       " 45346)"
      ]
     },
     "execution_count": 85,
     "metadata": {},
     "output_type": "execute_result"
    }
   ],
   "source": [
    "get_column_summary(movies_by_gen_rat, \"vote_average\")"
   ]
  },
  {
   "cell_type": "code",
   "execution_count": 86,
   "metadata": {},
   "outputs": [],
   "source": [
    "temp_dataset = movies_by_gen_rat.copy()\n",
    "temp_dataset.loc[:, \"to_delete\"] = np.nan  # Use .loc to assign NaN values to the column\n",
    "\n",
    "for idx, (votes, rating) in enumerate(zip(temp_dataset[\"vote_count\"], temp_dataset[\"vote_average\"])):\n",
    "    if votes == 0 and rating == 0:\n",
    "        temp_dataset.at[idx, \"to_delete\"] = 1\n",
    "\n",
    "movies_by_gen_rat_1 = temp_dataset[temp_dataset['to_delete'] != 1][[\"id\", \"title\", \"movie_genres\", \"vote_average\", \"tagline\"]]"
   ]
  },
  {
   "cell_type": "code",
   "execution_count": 99,
   "metadata": {},
   "outputs": [
    {
     "data": {
      "text/html": [
       "<div>\n",
       "<style scoped>\n",
       "    .dataframe tbody tr th:only-of-type {\n",
       "        vertical-align: middle;\n",
       "    }\n",
       "\n",
       "    .dataframe tbody tr th {\n",
       "        vertical-align: top;\n",
       "    }\n",
       "\n",
       "    .dataframe thead th {\n",
       "        text-align: right;\n",
       "    }\n",
       "</style>\n",
       "<table border=\"1\" class=\"dataframe\">\n",
       "  <thead>\n",
       "    <tr style=\"text-align: right;\">\n",
       "      <th></th>\n",
       "      <th>id</th>\n",
       "      <th>title</th>\n",
       "      <th>movie_genres</th>\n",
       "      <th>vote_average</th>\n",
       "      <th>tagline</th>\n",
       "    </tr>\n",
       "  </thead>\n",
       "  <tbody>\n",
       "    <tr>\n",
       "      <th>1</th>\n",
       "      <td>8844</td>\n",
       "      <td>Jumanji</td>\n",
       "      <td>['Adventure', 'Fantasy', 'Family']</td>\n",
       "      <td>6.9</td>\n",
       "      <td>Roll the dice and unleash the excitement!</td>\n",
       "    </tr>\n",
       "    <tr>\n",
       "      <th>2</th>\n",
       "      <td>15602</td>\n",
       "      <td>Grumpier Old Men</td>\n",
       "      <td>['Romance', 'Comedy']</td>\n",
       "      <td>6.5</td>\n",
       "      <td>Still Yelling. Still Fighting. Still Ready for...</td>\n",
       "    </tr>\n",
       "    <tr>\n",
       "      <th>3</th>\n",
       "      <td>31357</td>\n",
       "      <td>Waiting to Exhale</td>\n",
       "      <td>['Comedy', 'Drama', 'Romance']</td>\n",
       "      <td>6.1</td>\n",
       "      <td>Friends are the people who let you be yourself...</td>\n",
       "    </tr>\n",
       "    <tr>\n",
       "      <th>4</th>\n",
       "      <td>11862</td>\n",
       "      <td>Father of the Bride Part II</td>\n",
       "      <td>['Comedy']</td>\n",
       "      <td>5.7</td>\n",
       "      <td>Just When His World Is Back To Normal... He's ...</td>\n",
       "    </tr>\n",
       "    <tr>\n",
       "      <th>5</th>\n",
       "      <td>949</td>\n",
       "      <td>Heat</td>\n",
       "      <td>['Action', 'Crime', 'Drama', 'Thriller']</td>\n",
       "      <td>7.7</td>\n",
       "      <td>A Los Angeles Crime Saga</td>\n",
       "    </tr>\n",
       "  </tbody>\n",
       "</table>\n",
       "</div>"
      ],
      "text/plain": [
       "      id                        title   \n",
       "1   8844                      Jumanji  \\\n",
       "2  15602             Grumpier Old Men   \n",
       "3  31357            Waiting to Exhale   \n",
       "4  11862  Father of the Bride Part II   \n",
       "5    949                         Heat   \n",
       "\n",
       "                               movie_genres  vote_average   \n",
       "1        ['Adventure', 'Fantasy', 'Family']           6.9  \\\n",
       "2                     ['Romance', 'Comedy']           6.5   \n",
       "3            ['Comedy', 'Drama', 'Romance']           6.1   \n",
       "4                                ['Comedy']           5.7   \n",
       "5  ['Action', 'Crime', 'Drama', 'Thriller']           7.7   \n",
       "\n",
       "                                             tagline  \n",
       "1          Roll the dice and unleash the excitement!  \n",
       "2  Still Yelling. Still Fighting. Still Ready for...  \n",
       "3  Friends are the people who let you be yourself...  \n",
       "4  Just When His World Is Back To Normal... He's ...  \n",
       "5                           A Los Angeles Crime Saga  "
      ]
     },
     "execution_count": 99,
     "metadata": {},
     "output_type": "execute_result"
    }
   ],
   "source": [
    "# Creating a new dataset without the NaN values\n",
    "movies_by_gen_rat_2 = movies_by_gen_rat_1.dropna(subset=[\"tagline\"])\n",
    "movies_by_gen_rat_2.head()"
   ]
  },
  {
   "cell_type": "code",
   "execution_count": 100,
   "metadata": {},
   "outputs": [],
   "source": [
    "# Creating a new dataset using a list of genres\n",
    "\n",
    "list_genres = [\"Adventure\", \"Romance\"]\n",
    "\n",
    "movies_by_gen_rat_2 = movies_by_gen_rat_2[movies_by_gen_rat_2['movie_genres'].apply(lambda x: any(genre in x for genre in list_genres))][['id', 'title', 'movie_genres', 'vote_average']]"
   ]
  },
  {
   "cell_type": "code",
   "execution_count": 101,
   "metadata": {},
   "outputs": [
    {
     "name": "stdout",
     "output_type": "stream",
     "text": [
      "<class 'pandas.core.frame.DataFrame'>\n",
      "Index: 5203 entries, 1 to 45318\n",
      "Data columns (total 4 columns):\n",
      " #   Column        Non-Null Count  Dtype  \n",
      "---  ------        --------------  -----  \n",
      " 0   id            5203 non-null   int64  \n",
      " 1   title         5203 non-null   object \n",
      " 2   movie_genres  5203 non-null   object \n",
      " 3   vote_average  5203 non-null   float64\n",
      "dtypes: float64(1), int64(1), object(2)\n",
      "memory usage: 203.2+ KB\n"
     ]
    }
   ],
   "source": [
    "movies_by_gen_rat_2.info()"
   ]
  },
  {
   "cell_type": "code",
   "execution_count": 96,
   "metadata": {},
   "outputs": [],
   "source": [
    "for value in movies_by_gen_rat_2[\"movie_genres\"]:\n",
    "    if value == []:\n",
    "        print(value)"
   ]
  },
  {
   "attachments": {},
   "cell_type": "markdown",
   "metadata": {},
   "source": [
    "## Model"
   ]
  },
  {
   "cell_type": "code",
   "execution_count": 35,
   "metadata": {},
   "outputs": [],
   "source": [
    "count_vector = CountVectorizer(max_features=1000, stop_words='english')"
   ]
  },
  {
   "cell_type": "code",
   "execution_count": 40,
   "metadata": {},
   "outputs": [],
   "source": [
    "vector = count_vector.fit_transform(movies[\"overview\"].values.astype('U')).toarray() #.values.astype('U')"
   ]
  },
  {
   "cell_type": "code",
   "execution_count": null,
   "metadata": {},
   "outputs": [],
   "source": [
    "similarity = cosine_similarity(vector)"
   ]
  },
  {
   "cell_type": "code",
   "execution_count": null,
   "metadata": {},
   "outputs": [],
   "source": [
    "movies[movies['title']==\"The Godfather\"].index[0]"
   ]
  },
  {
   "cell_type": "code",
   "execution_count": null,
   "metadata": {},
   "outputs": [],
   "source": [
    "distance = sorted(list(enumerate(similarity[2])), reverse=True, key=lambda vector:vector[1])\n",
    "for i in distance[0:5]:\n",
    "    print(movies.iloc[i[0]].title)\n",
    "\n"
   ]
  },
  {
   "cell_type": "code",
   "execution_count": null,
   "metadata": {},
   "outputs": [],
   "source": [
    "\n",
    "\n",
    "def recommand(movies):\n",
    "    index=new_data[new_data['title']==movies].index[0]\n",
    "    distance = sorted(list(enumerate(similarity[index])), reverse=True, key=lambda vector:vector[1])\n",
    "    for i in distance[0:5]:\n",
    "        print(new_data.iloc[i[0]].title)\n",
    "\n"
   ]
  },
  {
   "cell_type": "code",
   "execution_count": null,
   "metadata": {},
   "outputs": [],
   "source": [
    "\n",
    "\n",
    "recommand(\"Iron Man\")\n",
    "\n"
   ]
  }
 ],
 "metadata": {
  "kernelspec": {
   "display_name": "env-recommd-sys-movies-similarity",
   "language": "python",
   "name": "python3"
  },
  "language_info": {
   "codemirror_mode": {
    "name": "ipython",
    "version": 3
   },
   "file_extension": ".py",
   "mimetype": "text/x-python",
   "name": "python",
   "nbconvert_exporter": "python",
   "pygments_lexer": "ipython3",
   "version": "3.11.3"
  },
  "orig_nbformat": 4
 },
 "nbformat": 4,
 "nbformat_minor": 2
}

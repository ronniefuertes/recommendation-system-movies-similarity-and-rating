{
 "cells": [
  {
   "attachments": {},
   "cell_type": "markdown",
   "metadata": {},
   "source": [
    "## Importing files"
   ]
  },
  {
   "cell_type": "code",
   "execution_count": 141,
   "metadata": {},
   "outputs": [
    {
     "data": {
      "text/plain": [
       "<module 'utils.helpers' from 's:\\\\Courses\\\\Data Science\\\\0. Henry\\\\M7 - Labs - Project MLOps\\\\recommendation-system-movies-similarity-and-rating\\\\EDA\\\\utils\\\\helpers.py'>"
      ]
     },
     "execution_count": 141,
     "metadata": {},
     "output_type": "execute_result"
    }
   ],
   "source": [
    "# Importing requiered libraries\n",
    "import numpy as np\n",
    "import pandas as pd\n",
    "import matplotlib.pyplot as plt\n",
    "import importlib\n",
    "import utils.helpers\n",
    "\n",
    "# Reload the functions module\n",
    "importlib.reload(utils.helpers)"
   ]
  },
  {
   "cell_type": "code",
   "execution_count": 142,
   "metadata": {},
   "outputs": [],
   "source": [
    "# Importing eda_movies_data.csv file\n",
    "dataset_path = \"data\\eda_movies_data.csv\"\n",
    "\n",
    "# Setting low_memory=False - To read the entire file so it determines the data types accurately. \n",
    "# Note: It can increase memory usage for larger datasets\n",
    "info_movies = pd.read_csv(dataset_path, low_memory=False)"
   ]
  },
  {
   "cell_type": "code",
   "execution_count": 143,
   "metadata": {},
   "outputs": [
    {
     "name": "stdout",
     "output_type": "stream",
     "text": [
      "<class 'pandas.core.frame.DataFrame'>\n",
      "RangeIndex: 45346 entries, 0 to 45345\n",
      "Data columns (total 23 columns):\n",
      " #   Column             Non-Null Count  Dtype  \n",
      "---  ------             --------------  -----  \n",
      " 0   id                 45346 non-null  int64  \n",
      " 1   title              45346 non-null  object \n",
      " 2   collection_name    4485 non-null   object \n",
      " 3   movie_genres       45346 non-null  object \n",
      " 4   release_date       45346 non-null  object \n",
      " 5   release_year       45346 non-null  int64  \n",
      " 6   status             45266 non-null  object \n",
      " 7   return             45346 non-null  float64\n",
      " 8   revenue            45346 non-null  float64\n",
      " 9   budget             45346 non-null  int64  \n",
      " 10  vote_count         45346 non-null  float64\n",
      " 11  vote_average       45346 non-null  float64\n",
      " 12  popularity         45346 non-null  float64\n",
      " 13  original_language  45335 non-null  object \n",
      " 14  overview           44405 non-null  object \n",
      " 15  companies_name     45346 non-null  object \n",
      " 16  prod_countries     45346 non-null  object \n",
      " 17  runtime            45100 non-null  float64\n",
      " 18  sp_languages       45346 non-null  object \n",
      " 19  tagline            20387 non-null  object \n",
      " 20  actor_name         45346 non-null  object \n",
      " 21  crew_name          45346 non-null  object \n",
      " 22  crew_job           45346 non-null  object \n",
      "dtypes: float64(6), int64(3), object(14)\n",
      "memory usage: 8.0+ MB\n"
     ]
    }
   ],
   "source": [
    "info_movies.info()"
   ]
  },
  {
   "attachments": {},
   "cell_type": "markdown",
   "metadata": {},
   "source": [
    "## Data Analysis"
   ]
  },
  {
   "attachments": {},
   "cell_type": "markdown",
   "metadata": {},
   "source": [
    "## Data Preparation"
   ]
  },
  {
   "attachments": {},
   "cell_type": "markdown",
   "metadata": {},
   "source": [
    "### Extracting necessary information"
   ]
  },
  {
   "cell_type": "code",
   "execution_count": 154,
   "metadata": {},
   "outputs": [],
   "source": [
    "#data_for_analysis = info_movies[[\"id\", \"title\", \"movie_genres\", \"release_year\", \"status\", \"return\", \"budget\", \"revenue\", \"vote_count\", \"vote_average\", \"popularity\"]]\n",
    "data_for_analysis = info_movies.copy()"
   ]
  },
  {
   "cell_type": "code",
   "execution_count": 155,
   "metadata": {},
   "outputs": [
    {
     "name": "stdout",
     "output_type": "stream",
     "text": [
      "<class 'pandas.core.frame.DataFrame'>\n",
      "RangeIndex: 45346 entries, 0 to 45345\n",
      "Data columns (total 23 columns):\n",
      " #   Column             Non-Null Count  Dtype  \n",
      "---  ------             --------------  -----  \n",
      " 0   id                 45346 non-null  int64  \n",
      " 1   title              45346 non-null  object \n",
      " 2   collection_name    4485 non-null   object \n",
      " 3   movie_genres       45346 non-null  object \n",
      " 4   release_date       45346 non-null  object \n",
      " 5   release_year       45346 non-null  int64  \n",
      " 6   status             45266 non-null  object \n",
      " 7   return             45346 non-null  float64\n",
      " 8   revenue            45346 non-null  float64\n",
      " 9   budget             45346 non-null  int64  \n",
      " 10  vote_count         45346 non-null  float64\n",
      " 11  vote_average       45346 non-null  float64\n",
      " 12  popularity         45346 non-null  float64\n",
      " 13  original_language  45335 non-null  object \n",
      " 14  overview           44405 non-null  object \n",
      " 15  companies_name     45346 non-null  object \n",
      " 16  prod_countries     45346 non-null  object \n",
      " 17  runtime            45100 non-null  float64\n",
      " 18  sp_languages       45346 non-null  object \n",
      " 19  tagline            20387 non-null  object \n",
      " 20  actor_name         45346 non-null  object \n",
      " 21  crew_name          45346 non-null  object \n",
      " 22  crew_job           45346 non-null  object \n",
      "dtypes: float64(6), int64(3), object(14)\n",
      "memory usage: 8.0+ MB\n"
     ]
    }
   ],
   "source": [
    "data_for_analysis.info()"
   ]
  },
  {
   "attachments": {},
   "cell_type": "markdown",
   "metadata": {},
   "source": [
    "### Data cleaning"
   ]
  },
  {
   "attachments": {},
   "cell_type": "markdown",
   "metadata": {},
   "source": [
    "#### Delete movies that have empty date values"
   ]
  },
  {
   "cell_type": "code",
   "execution_count": 156,
   "metadata": {},
   "outputs": [
    {
     "data": {
      "text/plain": [
       "(release_year\n",
       " <class 'int'>    45346\n",
       " Name: count, dtype: int64,\n",
       " 'total values:',\n",
       " 45346)"
      ]
     },
     "execution_count": 156,
     "metadata": {},
     "output_type": "execute_result"
    }
   ],
   "source": [
    "# Checking the data type\n",
    "utils.helpers.get_column_summary(data_for_analysis, \"release_year\")"
   ]
  },
  {
   "cell_type": "code",
   "execution_count": 157,
   "metadata": {},
   "outputs": [
    {
     "name": "stdout",
     "output_type": "stream",
     "text": [
      "0\n"
     ]
    }
   ],
   "source": [
    "# Checking the number of values that have a 0 value in year \n",
    "count = 0\n",
    "for year in data_for_analysis[\"release_year\"]:\n",
    "    if year == 0:\n",
    "        count += 1\n",
    "print(count)"
   ]
  },
  {
   "attachments": {},
   "cell_type": "markdown",
   "metadata": {},
   "source": [
    "#### Delete movies that aren't released yet"
   ]
  },
  {
   "cell_type": "code",
   "execution_count": 158,
   "metadata": {},
   "outputs": [
    {
     "name": "stdout",
     "output_type": "stream",
     "text": [
      "439\n"
     ]
    }
   ],
   "source": [
    "# Checking movies that aren't released yet\n",
    "not_released = []\n",
    "for idx, (status_value, id_movie) in enumerate(zip(data_for_analysis[\"status\"], data_for_analysis[\"id\"])):\n",
    "    if status_value != \"Released\":\n",
    "        not_released.append(id_movie)\n",
    "\n",
    "print(len(not_released))"
   ]
  },
  {
   "cell_type": "code",
   "execution_count": 159,
   "metadata": {},
   "outputs": [],
   "source": [
    "# Having only 439 values without status, and bieng less than 1% of the total values\n",
    "# Deleting the values from the dataset\n",
    "data_for_analysis_1 = data_for_analysis.copy()\n",
    "\n",
    "for idx, id_movie_value in enumerate(data_for_analysis_1[\"id\"]):\n",
    "    if id_movie_value in not_released:\n",
    "        data_for_analysis_1.drop(idx, inplace=True)\n"
   ]
  },
  {
   "cell_type": "code",
   "execution_count": 160,
   "metadata": {},
   "outputs": [],
   "source": [
    "data_for_analysis_1.drop(\"status\", axis=1, inplace=True)\n"
   ]
  },
  {
   "cell_type": "code",
   "execution_count": null,
   "metadata": {},
   "outputs": [],
   "source": [
    "data_for_analysis_1.info()"
   ]
  },
  {
   "attachments": {},
   "cell_type": "markdown",
   "metadata": {},
   "source": [
    "#### \"vote count\" data"
   ]
  },
  {
   "cell_type": "code",
   "execution_count": 164,
   "metadata": {},
   "outputs": [
    {
     "name": "stdout",
     "output_type": "stream",
     "text": [
      "count    44907.000000\n",
      "mean       111.116663\n",
      "std        494.189808\n",
      "min          0.000000\n",
      "25%          3.000000\n",
      "50%         10.000000\n",
      "75%         35.000000\n",
      "max      14075.000000\n",
      "Name: vote_count, dtype: float64\n"
     ]
    }
   ],
   "source": [
    "# Calculate summary statistics\n",
    "outliers_st_summary = data_for_analysis_1['vote_count'].describe()\n",
    "\n",
    "# Print the summary statistics\n",
    "print(outliers_st_summary)\n",
    "\n",
    "# Extract individual statistics\n",
    "outl_mean = outliers_st_summary['mean']\n",
    "outl_median = outliers_st_summary['50%']  # Median\n",
    "outl_std_dev = outliers_st_summary['std']\n",
    "outl_minimum = outliers_st_summary['min']\n",
    "outl_maximum = outliers_st_summary['max']\n",
    "outl_q1 = outliers_st_summary['25%']  # First quartile\n",
    "outl_q3 = outliers_st_summary['75%']  # Third quartile\n",
    "\n",
    "# Analyze the range of values\n",
    "outl_range_values = outl_maximum - outl_minimum"
   ]
  },
  {
   "cell_type": "code",
   "execution_count": 169,
   "metadata": {},
   "outputs": [
    {
     "data": {
      "image/png": "[encoded data removed]",
      "text/plain": [
       "<Figure size 640x480 with 1 Axes>"
      ]
     },
     "metadata": {},
     "output_type": "display_data"
    }
   ],
   "source": [
    "# Plotting the histogram\n",
    "plt.hist(data_for_analysis_1['vote_count'], bins=100, edgecolor='black')\n",
    "\n",
    "# Adding labels and title\n",
    "plt.xlabel('Vote Count')\n",
    "plt.ylabel('Frequency')\n",
    "plt.title('Histogram of Vote Average')\n",
    "\n",
    "# Displaying the histogram\n",
    "plt.show()"
   ]
  },
  {
   "cell_type": "code",
   "execution_count": 200,
   "metadata": {},
   "outputs": [
    {
     "data": {
      "text/html": [
       "<div>\n",
       "<style scoped>\n",
       "    .dataframe tbody tr th:only-of-type {\n",
       "        vertical-align: middle;\n",
       "    }\n",
       "\n",
       "    .dataframe tbody tr th {\n",
       "        vertical-align: top;\n",
       "    }\n",
       "\n",
       "    .dataframe thead th {\n",
       "        text-align: right;\n",
       "    }\n",
       "</style>\n",
       "<table border=\"1\" class=\"dataframe\">\n",
       "  <thead>\n",
       "    <tr style=\"text-align: right;\">\n",
       "      <th></th>\n",
       "      <th>id</th>\n",
       "      <th>title</th>\n",
       "      <th>collection_name</th>\n",
       "      <th>movie_genres</th>\n",
       "      <th>release_date</th>\n",
       "      <th>release_year</th>\n",
       "      <th>return</th>\n",
       "      <th>revenue</th>\n",
       "      <th>budget</th>\n",
       "      <th>vote_count</th>\n",
       "      <th>...</th>\n",
       "      <th>original_language</th>\n",
       "      <th>overview</th>\n",
       "      <th>companies_name</th>\n",
       "      <th>prod_countries</th>\n",
       "      <th>runtime</th>\n",
       "      <th>sp_languages</th>\n",
       "      <th>tagline</th>\n",
       "      <th>actor_name</th>\n",
       "      <th>crew_name</th>\n",
       "      <th>crew_job</th>\n",
       "    </tr>\n",
       "  </thead>\n",
       "  <tbody>\n",
       "  </tbody>\n",
       "</table>\n",
       "<p>0 rows × 22 columns</p>\n",
       "</div>"
      ],
      "text/plain": [
       "Empty DataFrame\n",
       "Columns: [id, title, collection_name, movie_genres, release_date, release_year, return, revenue, budget, vote_count, vote_average, popularity, original_language, overview, companies_name, prod_countries, runtime, sp_languages, tagline, actor_name, crew_name, crew_job]\n",
       "Index: []\n",
       "\n",
       "[0 rows x 22 columns]"
      ]
     },
     "execution_count": 200,
     "metadata": {},
     "output_type": "execute_result"
    }
   ],
   "source": [
    "# Deleting values with 0 vote count and 0 vote average\n",
    "# That will mean that it didn't have any entry data\n",
    "\n",
    "null_vote_values = []\n",
    "for idx_row, (value_vote_count, value_vote_average) in enumerate(zip(data_for_analysis_1[\"vote_count\"], data_for_analysis_1[\"vote_average\"])):\n",
    "    if value_vote_count == 0 and value_vote_average == 0:\n",
    "        null_vote_values.append(idx_row)\n",
    "\n",
    "\n",
    "data_for_analysis_2 = pd.DataFrame(columns=data_for_analysis_1.columns)\n",
    "##### ***** PENDING\n",
    "\n",
    "for index, row in data_for_analysis_1.iterrows():\n",
    "    if row['id'] not in null_vote_values:\n",
    "        data_for_analysis_2 = pd.concat([data_for_analysis_2, row.to_frame().T])\n",
    "\n",
    "# Reset the index of dataset_2\n",
    "data_for_analysis_2.reset_index(drop=True, inplace=True)\n",
    "\n",
    "print(\"Number of null values deleted: \", len(null_vote_values))"
   ]
  },
  {
   "attachments": {},
   "cell_type": "markdown",
   "metadata": {},
   "source": [
    "#### Outliers in \"vote average\" column"
   ]
  },
  {
   "cell_type": "code",
   "execution_count": 162,
   "metadata": {},
   "outputs": [
    {
     "name": "stdout",
     "output_type": "stream",
     "text": [
      "count    44907.000000\n",
      "mean         5.629563\n",
      "std          1.907376\n",
      "min          0.000000\n",
      "25%          5.000000\n",
      "50%          6.000000\n",
      "75%          6.800000\n",
      "max         10.000000\n",
      "Name: vote_average, dtype: float64\n"
     ]
    }
   ],
   "source": [
    "# Calculate summary statistics\n",
    "outliers_st_summary = data_for_analysis_1['vote_average'].describe()\n",
    "\n",
    "# Print the summary statistics\n",
    "print(outliers_st_summary)\n",
    "\n",
    "# Extract individual statistics\n",
    "outl_mean = outliers_st_summary['mean']\n",
    "outl_median = outliers_st_summary['50%']  # Median\n",
    "outl_std_dev = outliers_st_summary['std']\n",
    "outl_minimum = outliers_st_summary['min']\n",
    "outl_maximum = outliers_st_summary['max']\n",
    "outl_q1 = outliers_st_summary['25%']  # First quartile\n",
    "outl_q3 = outliers_st_summary['75%']  # Third quartile\n",
    "\n",
    "# Analyze the range of values\n",
    "outl_range_values = outl_maximum - outl_minimum"
   ]
  },
  {
   "cell_type": "code",
   "execution_count": 163,
   "metadata": {},
   "outputs": [
    {
     "data": {
      "image/png": "[encoded data removed]",
      "text/plain": [
       "<Figure size 640x480 with 1 Axes>"
      ]
     },
     "metadata": {},
     "output_type": "display_data"
    }
   ],
   "source": [
    "# Plotting the histogram\n",
    "plt.hist(data_for_analysis_1['vote_average'], bins=10, edgecolor='black')\n",
    "\n",
    "# Adding labels and title\n",
    "plt.xlabel('Vote Average')\n",
    "plt.ylabel('Frequency')\n",
    "plt.title('Histogram of Vote Average')\n",
    "\n",
    "# Displaying the histogram\n",
    "plt.show()"
   ]
  },
  {
   "attachments": {},
   "cell_type": "markdown",
   "metadata": {},
   "source": [
    "#### Outliers in \"return\" column"
   ]
  },
  {
   "cell_type": "code",
   "execution_count": 152,
   "metadata": {},
   "outputs": [
    {
     "name": "stdout",
     "output_type": "stream",
     "text": [
      "count    4.490700e+04\n",
      "mean     6.669357e+02\n",
      "std      7.508230e+04\n",
      "min      0.000000e+00\n",
      "25%      0.000000e+00\n",
      "50%      0.000000e+00\n",
      "75%      0.000000e+00\n",
      "max      1.239638e+07\n",
      "Name: return, dtype: float64\n"
     ]
    }
   ],
   "source": [
    "# Calculate summary statistics\n",
    "outliers_st_summary = data_for_analysis_1['return'].describe()\n",
    "\n",
    "# Print the summary statistics\n",
    "print(outliers_st_summary)\n",
    "\n",
    "# Extract individual statistics\n",
    "outl_mean = outliers_st_summary['mean']\n",
    "outl_median = outliers_st_summary['50%']  # Median\n",
    "outl_std_dev = outliers_st_summary['std']\n",
    "outl_minimum = outliers_st_summary['min']\n",
    "outl_maximum = outliers_st_summary['max']\n",
    "outl_q1 = outliers_st_summary['25%']  # First quartile\n",
    "outl_q3 = outliers_st_summary['75%']  # Third quartile\n",
    "\n",
    "# Analyze the range of values\n",
    "outl_range_values = outl_maximum - outl_minimum"
   ]
  },
  {
   "cell_type": "code",
   "execution_count": 153,
   "metadata": {},
   "outputs": [
    {
     "data": {
      "image/png": "[encoded data removed]",
      "text/plain": [
       "<Figure size 640x480 with 1 Axes>"
      ]
     },
     "metadata": {},
     "output_type": "display_data"
    }
   ],
   "source": [
    "# Scatter plot\n",
    "plt.scatter(data_for_analysis_1['budget'], data_for_analysis_1['return'])\n",
    "\n",
    "# Set labels and title\n",
    "plt.xlabel('Budget')\n",
    "plt.ylabel('Return')\n",
    "plt.title('Budget vs. Return Scatter Plot')\n",
    "\n",
    "# Show the plot\n",
    "plt.show()"
   ]
  },
  {
   "attachments": {},
   "cell_type": "markdown",
   "metadata": {},
   "source": [
    "The majority of the return values are very close to 0. The mean and standard deviation are heavily influenced by the extreme maximum value, which is significantly larger than the other values as can be seen in the graph above"
   ]
  },
  {
   "attachments": {},
   "cell_type": "markdown",
   "metadata": {},
   "source": [
    "Deleting outliers from return"
   ]
  },
  {
   "cell_type": "code",
   "execution_count": 136,
   "metadata": {},
   "outputs": [],
   "source": [
    "data_for_analysis_2 = data_for_analysis_1.copy()"
   ]
  },
  {
   "cell_type": "code",
   "execution_count": 138,
   "metadata": {},
   "outputs": [
    {
     "name": "stdout",
     "output_type": "stream",
     "text": [
      "5041\n"
     ]
    }
   ],
   "source": [
    "# Checking return values greater than 0.1\n",
    "return_outl_values = []\n",
    "for idx, (return_value, id_movie) in enumerate(zip(data_for_analysis_2[\"return\"], data_for_analysis_2[\"id\"])):\n",
    "    if return_value > 0.1:\n",
    "        return_outl_values.append(id_movie)\n",
    "\n",
    "print(len(return_outl_values))"
   ]
  },
  {
   "cell_type": "code",
   "execution_count": null,
   "metadata": {},
   "outputs": [],
   "source": [
    "# Having only 439 values without status, and bieng less than 1% of the total values\n",
    "# Deleting the values from the dataset\n",
    "for idx, id_movie_value in enumerate(data_for_analysis_2[\"id\"]):\n",
    "    if id_movie_value in return_outl_values:\n",
    "        try:\n",
    "            data_for_analysis_2.drop(idx, inplace=True)\n",
    "        except (ValueError):\n",
    "            pass\n"
   ]
  },
  {
   "cell_type": "code",
   "execution_count": null,
   "metadata": {},
   "outputs": [
    {
     "data": {
      "image/png": "[encoded data removed]",
      "text/plain": [
       "<Figure size 640x480 with 1 Axes>"
      ]
     },
     "metadata": {},
     "output_type": "display_data"
    }
   ],
   "source": [
    "# Scatter plot\n",
    "plt.scatter(data_for_analysis_2['budget'], data_for_analysis_2['return'])\n",
    "\n",
    "# Set labels and title\n",
    "plt.xlabel('Budget')\n",
    "plt.ylabel('Return')\n",
    "plt.title('Budget vs. Return Scatter Plot')\n",
    "\n",
    "# Show the plot\n",
    "plt.show()"
   ]
  },
  {
   "cell_type": "code",
   "execution_count": null,
   "metadata": {},
   "outputs": [],
   "source": []
  },
  {
   "attachments": {},
   "cell_type": "markdown",
   "metadata": {},
   "source": [
    "After analysis"
   ]
  },
  {
   "cell_type": "code",
   "execution_count": 124,
   "metadata": {},
   "outputs": [
    {
     "data": {
      "image/png": "[encoded data removed]",
      "text/plain": [
       "<Figure size 640x480 with 1 Axes>"
      ]
     },
     "metadata": {},
     "output_type": "display_data"
    }
   ],
   "source": [
    "# Scatter plot\n",
    "plt.scatter(data_for_analysis_2['budget'], data_for_analysis_2['return'])\n",
    "\n",
    "# Set labels and title\n",
    "plt.xlabel('Budget')\n",
    "plt.ylabel('Return')\n",
    "plt.title('Budget vs. Return Scatter Plot')\n",
    "\n",
    "# Show the plot\n",
    "plt.show()"
   ]
  }
 ],
 "metadata": {
  "kernelspec": {
   "display_name": "env-recommd-sys-movies-similarity",
   "language": "python",
   "name": "python3"
  },
  "language_info": {
   "codemirror_mode": {
    "name": "ipython",
    "version": 3
   },
   "file_extension": ".py",
   "mimetype": "text/x-python",
   "name": "python",
   "nbconvert_exporter": "python",
   "pygments_lexer": "ipython3",
   "version": "3.11.3"
  },
  "orig_nbformat": 4
 },
 "nbformat": 4,
 "nbformat_minor": 2
}
